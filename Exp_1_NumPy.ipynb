{
  "nbformat": 4,
  "nbformat_minor": 0,
  "metadata": {
    "colab": {
      "name": "Exp-1 NumPy.ipynb",
      "provenance": [],
      "collapsed_sections": [],
      "authorship_tag": "ABX9TyMXy8zs697hkxvYDXkE3H+L",
      "include_colab_link": true
    },
    "kernelspec": {
      "name": "python3",
      "display_name": "Python 3"
    }
  },
  "cells": [
    {
      "cell_type": "markdown",
      "metadata": {
        "id": "view-in-github",
        "colab_type": "text"
      },
      "source": [
        "<a href=\"https://colab.research.google.com/github/19PA1A0282/AI-Lab/blob/master/Exp_1_NumPy.ipynb\" target=\"_parent\"><img src=\"https://colab.research.google.com/assets/colab-badge.svg\" alt=\"Open In Colab\"/></a>"
      ]
    },
    {
      "cell_type": "markdown",
      "metadata": {
        "id": "8F-yUj4HHi1g",
        "colab_type": "text"
      },
      "source": [
        "# Experiment : 1 NumPy"
      ]
    },
    {
      "cell_type": "markdown",
      "metadata": {
        "id": "chTT7a7bH4aP",
        "colab_type": "text"
      },
      "source": [
        "## i) Different ways to create NumPy Arrays"
      ]
    },
    {
      "cell_type": "markdown",
      "metadata": {
        "id": "IfOgX9S7H-9F",
        "colab_type": "text"
      },
      "source": [
        "### a) Create a NumPy Array using List\n",
        "\n",
        "\n"
      ]
    },
    {
      "cell_type": "code",
      "metadata": {
        "id": "JAcsVTepIJsh",
        "colab_type": "code",
        "colab": {
          "base_uri": "https://localhost:8080/",
          "height": 34
        },
        "outputId": "ee512509-f653-4482-f904-db89ea996170"
      },
      "source": [
        "#Let's create a different ways of numpy arrays\n",
        "\n",
        "import numpy as np\n",
        "a=np.array([1,2,3])\n",
        "a"
      ],
      "execution_count": null,
      "outputs": [
        {
          "output_type": "execute_result",
          "data": {
            "text/plain": [
              "array([1, 2, 3])"
            ]
          },
          "metadata": {
            "tags": []
          },
          "execution_count": 2
        }
      ]
    },
    {
      "cell_type": "markdown",
      "metadata": {
        "id": "7uRn8uQMJBjc",
        "colab_type": "text"
      },
      "source": [
        "### b) Create a NumPy array using Arrange"
      ]
    },
    {
      "cell_type": "code",
      "metadata": {
        "id": "YC2LH5jSJKAi",
        "colab_type": "code",
        "colab": {
          "base_uri": "https://localhost:8080/",
          "height": 34
        },
        "outputId": "1f32e06a-98ee-46bf-cbc7-7f4d893ca27d"
      },
      "source": [
        "b = np.arange( 4 )\n",
        "b"
      ],
      "execution_count": null,
      "outputs": [
        {
          "output_type": "execute_result",
          "data": {
            "text/plain": [
              "array([0, 1, 2, 3])"
            ]
          },
          "metadata": {
            "tags": []
          },
          "execution_count": 3
        }
      ]
    },
    {
      "cell_type": "markdown",
      "metadata": {
        "id": "FtiR3CYUJUdt",
        "colab_type": "text"
      },
      "source": [
        "## ii) Add, Remove, Modify elements in an array"
      ]
    },
    {
      "cell_type": "code",
      "metadata": {
        "id": "QdP25DQQJj7R",
        "colab_type": "code",
        "colab": {
          "base_uri": "https://localhost:8080/",
          "height": 34
        },
        "outputId": "dd9abca7-298c-43ca-c7ef-f77a460e388d"
      },
      "source": [
        "#Let's write a program to add elements in array\n",
        "\n",
        "import numpy as np\n",
        "x=np.array([10,20,30,40,50,60])\n",
        "np.append(x,[[7,8,9]])"
      ],
      "execution_count": null,
      "outputs": [
        {
          "output_type": "execute_result",
          "data": {
            "text/plain": [
              "array([10, 20, 30, 40, 50, 60,  7,  8,  9])"
            ]
          },
          "metadata": {
            "tags": []
          },
          "execution_count": 4
        }
      ]
    },
    {
      "cell_type": "code",
      "metadata": {
        "id": "9odNDqaqKKYm",
        "colab_type": "code",
        "colab": {
          "base_uri": "https://localhost:8080/",
          "height": 34
        },
        "outputId": "24bbf918-2164-4ad5-819f-b0e32ae8aea8"
      },
      "source": [
        "#Let's write a program to delete elements in array\n",
        "\n",
        "import numpy as np\n",
        "x=np.array([10,20,30,40,50,60])\n",
        "index=[0,3,4]\n",
        "x1=np.delete(x,index)\n",
        "x1"
      ],
      "execution_count": null,
      "outputs": [
        {
          "output_type": "execute_result",
          "data": {
            "text/plain": [
              "array([20, 30, 60])"
            ]
          },
          "metadata": {
            "tags": []
          },
          "execution_count": 6
        }
      ]
    },
    {
      "cell_type": "code",
      "metadata": {
        "id": "wIPaE2nZR10q",
        "colab_type": "code",
        "colab": {
          "base_uri": "https://localhost:8080/",
          "height": 67
        },
        "outputId": "623763cf-d116-4bb9-f9fa-e7062630405e"
      },
      "source": [
        "import numpy as np\n",
        "a=np.arange(15).reshape(3,5)\n",
        "a"
      ],
      "execution_count": null,
      "outputs": [
        {
          "output_type": "execute_result",
          "data": {
            "text/plain": [
              "array([[ 0,  1,  2,  3,  4],\n",
              "       [ 5,  6,  7,  8,  9],\n",
              "       [10, 11, 12, 13, 14]])"
            ]
          },
          "metadata": {
            "tags": []
          },
          "execution_count": 18
        }
      ]
    },
    {
      "cell_type": "code",
      "metadata": {
        "id": "rm7_5q2sR-Zf",
        "colab_type": "code",
        "colab": {
          "base_uri": "https://localhost:8080/",
          "height": 34
        },
        "outputId": "25f78559-127e-4c34-819b-bc45e15e5458"
      },
      "source": [
        "a.dtype"
      ],
      "execution_count": null,
      "outputs": [
        {
          "output_type": "execute_result",
          "data": {
            "text/plain": [
              "dtype('int64')"
            ]
          },
          "metadata": {
            "tags": []
          },
          "execution_count": 19
        }
      ]
    },
    {
      "cell_type": "code",
      "metadata": {
        "id": "N6Cdo6vQSIyc",
        "colab_type": "code",
        "colab": {
          "base_uri": "https://localhost:8080/",
          "height": 34
        },
        "outputId": "23b58e1c-9d5b-422f-979d-9592cb6d3be1"
      },
      "source": [
        "a.ndim"
      ],
      "execution_count": null,
      "outputs": [
        {
          "output_type": "execute_result",
          "data": {
            "text/plain": [
              "2"
            ]
          },
          "metadata": {
            "tags": []
          },
          "execution_count": 20
        }
      ]
    },
    {
      "cell_type": "code",
      "metadata": {
        "id": "1ObID5VeSN6i",
        "colab_type": "code",
        "colab": {
          "base_uri": "https://localhost:8080/",
          "height": 34
        },
        "outputId": "e751f41e-8afb-47c0-82ea-e6b403ae0d36"
      },
      "source": [
        "a.sum()"
      ],
      "execution_count": null,
      "outputs": [
        {
          "output_type": "execute_result",
          "data": {
            "text/plain": [
              "105"
            ]
          },
          "metadata": {
            "tags": []
          },
          "execution_count": 21
        }
      ]
    },
    {
      "cell_type": "code",
      "metadata": {
        "id": "FWuJq6T4SWsU",
        "colab_type": "code",
        "colab": {
          "base_uri": "https://localhost:8080/",
          "height": 34
        },
        "outputId": "48b8c478-e5b7-4e5f-ae22-9d3bd14033ec"
      },
      "source": [
        "a.sum(axis=0)"
      ],
      "execution_count": null,
      "outputs": [
        {
          "output_type": "execute_result",
          "data": {
            "text/plain": [
              "array([15, 18, 21, 24, 27])"
            ]
          },
          "metadata": {
            "tags": []
          },
          "execution_count": 22
        }
      ]
    },
    {
      "cell_type": "code",
      "metadata": {
        "id": "xUZ8fZGvSgS1",
        "colab_type": "code",
        "colab": {
          "base_uri": "https://localhost:8080/",
          "height": 34
        },
        "outputId": "487b21f2-b7ca-4f79-f2bb-28537109e611"
      },
      "source": [
        "a.sum(axis=1)"
      ],
      "execution_count": null,
      "outputs": [
        {
          "output_type": "execute_result",
          "data": {
            "text/plain": [
              "array([10, 35, 60])"
            ]
          },
          "metadata": {
            "tags": []
          },
          "execution_count": 23
        }
      ]
    },
    {
      "cell_type": "markdown",
      "metadata": {
        "id": "c58cq73uKaf6",
        "colab_type": "text"
      },
      "source": [
        "## iii) Arithmetic operations on NumPy array"
      ]
    },
    {
      "cell_type": "code",
      "metadata": {
        "id": "sJk5P36tKeKL",
        "colab_type": "code",
        "colab": {
          "base_uri": "https://localhost:8080/",
          "height": 50
        },
        "outputId": "2cad4123-f4e8-436f-f475-e5cd632cd339"
      },
      "source": [
        "#Let's write a program for arithmetic operation on numpy array\n",
        "\n",
        "a = np.array( [20,30,40,50] )\n",
        "b = np.arange( 4 )\n",
        "print(a)\n",
        "print(b)"
      ],
      "execution_count": null,
      "outputs": [
        {
          "output_type": "stream",
          "text": [
            "[20 30 40 50]\n",
            "[0 1 2 3]\n"
          ],
          "name": "stdout"
        }
      ]
    },
    {
      "cell_type": "code",
      "metadata": {
        "id": "sUzMkW-BLHJ3",
        "colab_type": "code",
        "colab": {
          "base_uri": "https://localhost:8080/",
          "height": 34
        },
        "outputId": "78179a9c-1477-4e77-ae8c-7ae27d6e9fab"
      },
      "source": [
        "c = a-b #Simple substraction\n",
        "print(c)"
      ],
      "execution_count": null,
      "outputs": [
        {
          "output_type": "stream",
          "text": [
            "[20 29 38 47]\n"
          ],
          "name": "stdout"
        }
      ]
    },
    {
      "cell_type": "code",
      "metadata": {
        "id": "F6zJtJuNLK7g",
        "colab_type": "code",
        "colab": {
          "base_uri": "https://localhost:8080/",
          "height": 34
        },
        "outputId": "fc024e58-e696-4c40-d04c-8741a8452afe"
      },
      "source": [
        "print(b**2) #Scalar multiplication(power)"
      ],
      "execution_count": null,
      "outputs": [
        {
          "output_type": "stream",
          "text": [
            "[0 1 4 9]\n"
          ],
          "name": "stdout"
        }
      ]
    },
    {
      "cell_type": "code",
      "metadata": {
        "id": "aw9Z3YofLORL",
        "colab_type": "code",
        "colab": {
          "base_uri": "https://localhost:8080/",
          "height": 34
        },
        "outputId": "57bb34c3-3520-4402-d1eb-d1de9b7e2c93"
      },
      "source": [
        "print(10*np.sin(a)) #Trignometric functions are available in numpy package"
      ],
      "execution_count": null,
      "outputs": [
        {
          "output_type": "stream",
          "text": [
            "[ 9.12945251 -9.88031624  7.4511316  -2.62374854]\n"
          ],
          "name": "stdout"
        }
      ]
    },
    {
      "cell_type": "code",
      "metadata": {
        "id": "RjwDLUAvLVW2",
        "colab_type": "code",
        "colab": {
          "base_uri": "https://localhost:8080/",
          "height": 34
        },
        "outputId": "26e4308e-16d1-4aea-eda7-9430bceb1c34"
      },
      "source": [
        "print(a<35) #Retuns true (or) false based on condition"
      ],
      "execution_count": null,
      "outputs": [
        {
          "output_type": "stream",
          "text": [
            "[ True  True False False]\n"
          ],
          "name": "stdout"
        }
      ]
    },
    {
      "cell_type": "code",
      "metadata": {
        "id": "pQoSuvR7LZGy",
        "colab_type": "code",
        "colab": {
          "base_uri": "https://localhost:8080/",
          "height": 34
        },
        "outputId": "69624a78-b710-4e8a-f583-53b00a141ee6"
      },
      "source": [
        "a[0] +=10 #This is equalient to a[0]=a[0]+10\n",
        "print(a)"
      ],
      "execution_count": null,
      "outputs": [
        {
          "output_type": "stream",
          "text": [
            "[30 30 40 50]\n"
          ],
          "name": "stdout"
        }
      ]
    },
    {
      "cell_type": "markdown",
      "metadata": {
        "id": "QDTlYLEAL4GD",
        "colab_type": "text"
      },
      "source": [
        "## iv) Slicing and iterating of NumPy arrays"
      ]
    },
    {
      "cell_type": "markdown",
      "metadata": {
        "id": "25Bc6fzhM4GK",
        "colab_type": "text"
      },
      "source": [
        "### a) Slicing of NumPy arrays"
      ]
    },
    {
      "cell_type": "code",
      "metadata": {
        "id": "qwrITVt-MBsF",
        "colab_type": "code",
        "colab": {
          "base_uri": "https://localhost:8080/",
          "height": 67
        },
        "outputId": "14180774-828c-4c2d-e42e-f8c68224bf24"
      },
      "source": [
        "#Let's write a program for slicing of numpy arrays\n",
        "\n",
        "a=np.array([[1,2,3],[4,5,6],[7,8,9]])\n",
        "a"
      ],
      "execution_count": null,
      "outputs": [
        {
          "output_type": "execute_result",
          "data": {
            "text/plain": [
              "array([[1, 2, 3],\n",
              "       [4, 5, 6],\n",
              "       [7, 8, 9]])"
            ]
          },
          "metadata": {
            "tags": []
          },
          "execution_count": 13
        }
      ]
    },
    {
      "cell_type": "code",
      "metadata": {
        "id": "kJxYz7_0MYBW",
        "colab_type": "code",
        "colab": {
          "base_uri": "https://localhost:8080/",
          "height": 34
        },
        "outputId": "578b8ab3-c20a-4855-8fe3-34d2efb8ab8b"
      },
      "source": [
        "b=a[:1,:2]\n",
        "b"
      ],
      "execution_count": null,
      "outputs": [
        {
          "output_type": "execute_result",
          "data": {
            "text/plain": [
              "array([[1, 2]])"
            ]
          },
          "metadata": {
            "tags": []
          },
          "execution_count": 15
        }
      ]
    },
    {
      "cell_type": "markdown",
      "metadata": {
        "id": "Vr6d2WrhND_o",
        "colab_type": "text"
      },
      "source": [
        "### b) Iterating of Numpy arrays"
      ]
    },
    {
      "cell_type": "code",
      "metadata": {
        "id": "gUA_suL9NM3e",
        "colab_type": "code",
        "colab": {
          "base_uri": "https://localhost:8080/",
          "height": 151
        },
        "outputId": "f28d42e6-6c58-4fdc-bad9-38954277e60d"
      },
      "source": [
        "#Let's write a program for iterating of numpy array\n",
        "\n",
        "a=np.arange(12).reshape(4,3)**2\n",
        "print(a)\n",
        "for i in a:\n",
        "  print(i)"
      ],
      "execution_count": null,
      "outputs": [
        {
          "output_type": "stream",
          "text": [
            "[[  0   1   4]\n",
            " [  9  16  25]\n",
            " [ 36  49  64]\n",
            " [ 81 100 121]]\n",
            "[0 1 4]\n",
            "[ 9 16 25]\n",
            "[36 49 64]\n",
            "[ 81 100 121]\n"
          ],
          "name": "stdout"
        }
      ]
    },
    {
      "cell_type": "markdown",
      "metadata": {
        "id": "72WIMPk0N9qh",
        "colab_type": "text"
      },
      "source": [
        "## v) Matrix operations on NumPy arrays"
      ]
    },
    {
      "cell_type": "code",
      "metadata": {
        "id": "fw81upjHOKdZ",
        "colab_type": "code",
        "colab": {
          "base_uri": "https://localhost:8080/",
          "height": 67
        },
        "outputId": "deb86d53-c8fa-4b11-deba-8444f5ff1c36"
      },
      "source": [
        "#Let's write a program on matrix operations numpy arrays\n",
        "\n",
        "import numpy as np\n",
        "a=np.arange(15).reshape(3,5)\n",
        "a"
      ],
      "execution_count": null,
      "outputs": [
        {
          "output_type": "execute_result",
          "data": {
            "text/plain": [
              "array([[ 0,  1,  2,  3,  4],\n",
              "       [ 5,  6,  7,  8,  9],\n",
              "       [10, 11, 12, 13, 14]])"
            ]
          },
          "metadata": {
            "tags": []
          },
          "execution_count": 17
        }
      ]
    }
  ]
}